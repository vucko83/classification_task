{
 "cells": [
  {
   "cell_type": "code",
   "execution_count": null,
   "metadata": {
    "collapsed": true
   },
   "outputs": [],
   "source": []
  },
  {
   "cell_type": "code",
   "execution_count": null,
   "metadata": {
    "collapsed": true
   },
   "outputs": [],
   "source": []
  },
  {
   "cell_type": "code",
   "execution_count": null,
   "metadata": {
    "collapsed": true
   },
   "outputs": [],
   "source": [
    "coding_dict = code_classes(df['grp'])\n",
    "y_coded=df['grp'].map(coding_dict)\n",
    "y_encoded=(OneHotEncoder().fit_transform(y_coded.reshape(-1,1)))"
   ]
  },
  {
   "cell_type": "code",
   "execution_count": null,
   "metadata": {
    "collapsed": true
   },
   "outputs": [],
   "source": [
    "def code_classes(y):\n",
    "    '''\n",
    "    y - vector of categorical classes\n",
    "    returns - mapping of integer coded classes\n",
    "    '''\n",
    "    y_unique=sorted(y.unique())\n",
    "    y_unique_codes=np.arange(len(y_unique))\n",
    "    mapping={y:y_code for y, y_code in zip(y_unique, y_unique_codes)}\n",
    "    return (mapping)\n",
    "\n",
    "def map_to_codes(y):\n",
    "    dict_codes=code_classes(y)\n",
    "    return (y.map(dict_codes))\n",
    "\n",
    "def decode_classes(coding_dict):\n",
    "    return {value:key for key, value in coding_dict.items()  }"
   ]
  },
  {
   "cell_type": "code",
   "execution_count": null,
   "metadata": {
    "collapsed": true
   },
   "outputs": [],
   "source": [
    "### multiclass\n",
    "enc = OneHotEncoder()\n",
    "true = map_to_codes(y_test)\n",
    "true = enc.fit_transform(true.reshape(-1,1))\n",
    "\n",
    "predicted = map_to_codes(lr_model.predict(X_test))\n",
    "#predicted = enc.fit_transform(predicted.reshape(-1,1))\n",
    "\n",
    "\n",
    "\n",
    "#ys= (, enc.fit_transform(code_classes(lr_model.predict(X_test))))"
   ]
  }
 ],
 "metadata": {
  "kernelspec": {
   "display_name": "Python 3",
   "language": "python",
   "name": "python3"
  },
  "language_info": {
   "codemirror_mode": {
    "name": "ipython",
    "version": 3
   },
   "file_extension": ".py",
   "mimetype": "text/x-python",
   "name": "python",
   "nbconvert_exporter": "python",
   "pygments_lexer": "ipython3",
   "version": "3.5.4"
  }
 },
 "nbformat": 4,
 "nbformat_minor": 0
}
